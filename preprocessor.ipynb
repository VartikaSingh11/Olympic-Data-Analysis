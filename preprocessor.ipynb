{
 "cells": [
  {
   "metadata": {},
   "cell_type": "code",
   "outputs": [],
   "execution_count": null,
   "source": [
    "import pandas as pd\n",
    "\n",
    "def preprocess(df,region_df):\n",
    "    # filtering for summer olympics\n",
    "    df = df[df['Season'] == 'Summer']\n",
    "    # merge with region_df\n",
    "    df = df.merge(region_df, on='NOC', how='left')\n",
    "    # dropping duplicates\n",
    "    df.drop_duplicates(inplace=True)\n",
    "    # one hot encoding medals\n",
    "    df = pd.concat([df, pd.get_dummies(df['Medal'])], axis=1)\n",
    "    return df"
   ],
   "id": "97c0ad4fb6872b10"
  }
 ],
 "metadata": {},
 "nbformat": 4,
 "nbformat_minor": 5
}
